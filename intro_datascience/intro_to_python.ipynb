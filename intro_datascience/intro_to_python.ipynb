{
 "cells": [
  {
   "cell_type": "markdown",
   "metadata": {},
   "source": [
    "# Python\n",
    "\n",
    "Like javascript and php, python is an interpreted language. Python's syntax is also relatively different from everything we've seen so far. Unlike languages like javascript and php, python was designed for readability, and uses no curly braces like other languages. Python as a language can be used for writing command line scripts, servers, or even web pages (similar to how we write web pages with php and html). This introduction to python is to get you up to speed with the language before we jump into writing a web crawler. \n",
    "\n",
    "\n",
    "\n",
    "### Installation\n",
    "\n",
    "Many, if not most computers come with python preinstalled. To ensure that python is installed on your machine, type: \n",
    "\n",
    "**Windows:**\n",
    "\n",
    "```powershell\n",
    "C:\\Users\\<YOUR USERNAME>python --version\n",
    "```\n",
    "\n",
    "**Mac:**\n",
    "\n",
    "```bash\n",
    "python --version\n",
    "```\n",
    "\n",
    "You should receive a message either says `command not found` OR something that looks akin to: \n",
    "\n",
    "```shell\n",
    "Python 2.7.3 :: Continuum Analytics, Inc.\n",
    "```\n",
    "\n",
    "OR\n",
    "\n",
    "```shell\n",
    "Python 3.7.3\n",
    "```\n",
    "\n",
    "\n",
    "\n",
    "If you received a `command not found` error, go to [Python's webpage](https://www.python.org/) and download either Python 2.7, or the newest version of Python 3 (as of now, Python3's most up to date version is Python 3.7.4). For the sake of most, Python 2.7 is the standard version that already exists on computers, so we'll stick with that. If you've downloaded a more recent version, the code should not be that much different, however you may have to make minor changes on the code that can be found in the documentation. \n",
    "\n",
    "\n",
    "\n",
    "### Syntax\n",
    "\n",
    "Python syntax is not entirely similar to other languages. We'll see more when we get to control flow and functions, but python is a language that, instead of enforcing scope through curly braces like javascript, php, etc., it uses indentation. Additionally, python's logical operators are different from those of other languages we've used up to now as well. \n",
    "\n",
    "\n",
    "\n",
    "#### Commenting\n",
    "\n",
    "In order to comment things out in python, instead of using a `//` like in PHP and javascript, you can comment out code by placing a `#` in front of it. \n",
    "\n",
    "\n",
    "\n",
    "### Variables\n",
    "\n",
    "To assign a value to a variable in python, it is as simple as declaring a variable by just naming it: "
   ]
  },
  {
   "cell_type": "code",
   "execution_count": 4,
   "metadata": {},
   "outputs": [
    {
     "name": "stdout",
     "output_type": "stream",
     "text": [
      "some value\n"
     ]
    }
   ],
   "source": [
    "myVariable = \"some value\"\n",
    "print(myVariable)"
   ]
  },
  {
   "cell_type": "markdown",
   "metadata": {},
   "source": [
    "Two things to note here: \n",
    "\n",
    "\n",
    "1. Notice that we did not declare a \"var\" or a data type before declaring the variable. Python lets users declare variables without using a reserved word. This is equally really nice, but also a potential problem (suppose you misspelled the variable, you've just created a brand new variable and not reassigned your old variable, leaving it as its old value). \n",
    "\n",
    "2. Python does not require semicolons! \n",
    "\n",
    "\n",
    "\n",
    "Also, python variables can also be reassigned at will to completely separate datatypes without a problem: "
   ]
  },
  {
   "cell_type": "code",
   "execution_count": 5,
   "metadata": {},
   "outputs": [
    {
     "name": "stdout",
     "output_type": "stream",
     "text": [
      "15\n",
      "Hello World\n"
     ]
    }
   ],
   "source": [
    "myVariable = 15\n",
    "print(myVariable)\n",
    "\n",
    "myVariable = \"Hello World\"\n",
    "print(myVariable)"
   ]
  },
  {
   "cell_type": "markdown",
   "metadata": {},
   "source": [
    "Python does not have \"constants\" per se. However, so long as conventions with capital letters are maintained, many are able to create variables and treat them as constants. Additionally, it is possible to create a function that returns a hard-coded so that the constant can act as a function. \n",
    "\n",
    "### Data Types\n",
    "\n",
    "Python \"has\" datatypes, but, as we've seen above, those types are not confined to a specific variable name. As far as numerical types, there are three. We will, however, only cover two of the three (as the third is rarely used). \n",
    "\n",
    "#### Numerical Types: \n",
    "\n",
    "The numerical types for python are `int`, `float`, and `complex`. Just like most other languages, `int` stands for integers (such as 0, 1, 2, 3, 4, 5, etc), and `float` stands for a number with a decimal point (e.g. 0.1, 0.2, 0.0000003, etc). `complex` is used for imaginary numbers (which we won't be covering beyond noting that they exist).\n",
    "\n",
    "Python lets you declare your variables with just a basic assignment like what was seen above. Types are implicitly allocated. To check the type of a variable, you can use the function `type()`, and pass the variable name in as a parameter: "
   ]
  },
  {
   "cell_type": "code",
   "execution_count": 6,
   "metadata": {},
   "outputs": [
    {
     "name": "stdout",
     "output_type": "stream",
     "text": [
      "1\n",
      "2.4\n",
      "<class 'int'>\n",
      "<class 'float'>\n"
     ]
    }
   ],
   "source": [
    "num1 = 1\n",
    "num2 = 2.4\n",
    "\n",
    "print(num1)\n",
    "print(num2)\n",
    "\n",
    "print(type(num1))\n",
    "print(type(num2))"
   ]
  },
  {
   "cell_type": "markdown",
   "metadata": {},
   "source": [
    "#### Strings: \n",
    "\n",
    "Python strings are similar to strings in javascript: "
   ]
  },
  {
   "cell_type": "code",
   "execution_count": 7,
   "metadata": {},
   "outputs": [
    {
     "name": "stdout",
     "output_type": "stream",
     "text": [
      "I am a string with double quotes\n",
      "I am also a string, but with single quotes\n"
     ]
    }
   ],
   "source": [
    "stringOne = \"I am a string with double quotes\"\n",
    "stringTwo = 'I am also a string, but with single quotes'\n",
    "\n",
    "print(stringOne)\n",
    "print(stringTwo)"
   ]
  },
  {
   "cell_type": "markdown",
   "metadata": {},
   "source": [
    "It's also possible to create strings that span more than one line in your code: "
   ]
  },
  {
   "cell_type": "code",
   "execution_count": 8,
   "metadata": {},
   "outputs": [
    {
     "name": "stdout",
     "output_type": "stream",
     "text": [
      "Yo, I'll tell you what I want, what I really, really want\n",
      "So tell me what you want, what you really, really want\n",
      "I'll tell you what I want, what I really, really want\n",
      "So tell me what you want, what you really, really want\n",
      "I wanna, (ha) I wanna, (ha) I wanna, (ha) I wanna, (ha)\n",
      "I wanna really, really, really wanna zigazig ah\n"
     ]
    }
   ],
   "source": [
    "whatIWant = '''Yo, I'll tell you what I want, what I really, really want\n",
    "So tell me what you want, what you really, really want\n",
    "I'll tell you what I want, what I really, really want\n",
    "So tell me what you want, what you really, really want\n",
    "I wanna, (ha) I wanna, (ha) I wanna, (ha) I wanna, (ha)\n",
    "I wanna really, really, really wanna zigazig ah'''\n",
    "\n",
    "print(whatIWant)"
   ]
  },
  {
   "cell_type": "markdown",
   "metadata": {},
   "source": [
    "When you print out the above `whatIWant`, the string prints in the same format as how it was typed (i.e. the new lines in the string print as new lines).\n",
    "\n",
    "Similar to other languages, strings are just character arrays. We'll cover arrays more later, however, it is worth noting that any character can be accessed by an index: "
   ]
  },
  {
   "cell_type": "code",
   "execution_count": 9,
   "metadata": {},
   "outputs": [
    {
     "name": "stdout",
     "output_type": "stream",
     "text": [
      "m\n"
     ]
    }
   ],
   "source": [
    "someString = \"I am some string\"\n",
    "print(someString[3])"
   ]
  },
  {
   "cell_type": "markdown",
   "metadata": {},
   "source": [
    "There are also supplied string functions, such as: \n",
    "\n",
    "- **upper**: You can change all of the letters in a string to upper case by using a dot function of `stringName.upper()`: "
   ]
  },
  {
   "cell_type": "code",
   "execution_count": 10,
   "metadata": {},
   "outputs": [
    {
     "name": "stdout",
     "output_type": "stream",
     "text": [
      "I AM SOME STRING\n"
     ]
    }
   ],
   "source": [
    "someString = \"I am some string\"\n",
    "print(someString.upper())"
   ]
  },
  {
   "cell_type": "markdown",
   "metadata": {},
   "source": [
    "- **lower**:  You can also change all letters in a string to lower case by using the dot function of `stringName.lower()`: "
   ]
  },
  {
   "cell_type": "code",
   "execution_count": 11,
   "metadata": {},
   "outputs": [
    {
     "name": "stdout",
     "output_type": "stream",
     "text": [
      "i am some string\n"
     ]
    }
   ],
   "source": [
    "someString = \"I am some string\"\n",
    "print(someString.lower())"
   ]
  },
  {
   "cell_type": "markdown",
   "metadata": {},
   "source": [
    "- **replace**: In the case you need to replace a certain character or substring with another string, use `stringName.replace(\"original\", \"newString\")`"
   ]
  },
  {
   "cell_type": "code",
   "execution_count": 13,
   "metadata": {},
   "outputs": [
    {
     "name": "stdout",
     "output_type": "stream",
     "text": [
      "I am a really cool string\n"
     ]
    }
   ],
   "source": [
    "someString = \"I am some string\"\n",
    "print(someString.replace(\"some\", \"a really cool\"))"
   ]
  },
  {
   "cell_type": "markdown",
   "metadata": {},
   "source": [
    "- **split**: It's very likely that you'll need to split a string to access elements of it as an array, you can do that by using split by choosing a delimiter (similar to PHP's explode method), like `stringName.split(' ')`:  "
   ]
  },
  {
   "cell_type": "code",
   "execution_count": 17,
   "metadata": {},
   "outputs": [
    {
     "name": "stdout",
     "output_type": "stream",
     "text": [
      "['I', 'am', 'some', 'string']\n"
     ]
    }
   ],
   "source": [
    "someString = \"I am some string\"\n",
    "print(someString.split(' ')) # so we split on a space"
   ]
  },
  {
   "cell_type": "markdown",
   "metadata": {},
   "source": [
    "- **strip**: Sometimes a string will have spaces around it, and to remove those spaces (without having to access the elements by array notation), you can clip the whitespaces off of the edge by using `stringName.strip()`:"
   ]
  },
  {
   "cell_type": "code",
   "execution_count": 18,
   "metadata": {},
   "outputs": [
    {
     "name": "stdout",
     "output_type": "stream",
     "text": [
      "I am some string\n"
     ]
    }
   ],
   "source": [
    "someString = \"          I am some string            \"\n",
    "print(someString.strip())"
   ]
  },
  {
   "cell_type": "markdown",
   "metadata": {},
   "source": [
    "- **length**:  To find the length of a string, use `len()` with the string as a parameter."
   ]
  },
  {
   "cell_type": "code",
   "execution_count": 19,
   "metadata": {},
   "outputs": [
    {
     "name": "stdout",
     "output_type": "stream",
     "text": [
      "16\n"
     ]
    }
   ],
   "source": [
    "someString = \"I am some string\"\n",
    "print(len(someString))"
   ]
  },
  {
   "cell_type": "markdown",
   "metadata": {},
   "source": [
    "String concatenation is much the same as in java and javascript (and many other languages for that matter): "
   ]
  },
  {
   "cell_type": "code",
   "execution_count": 20,
   "metadata": {},
   "outputs": [
    {
     "name": "stdout",
     "output_type": "stream",
     "text": [
      "I am a string with double quotesI am also a string, but with single quotes\n"
     ]
    }
   ],
   "source": [
    "stringOne = \"I am a string with double quotes\"\n",
    "stringTwo = 'I am also a string, but with single quotes'\n",
    "\n",
    "stringThree = stringOne + stringTwo\n",
    "print(stringThree)"
   ]
  },
  {
   "cell_type": "markdown",
   "metadata": {},
   "source": [
    "Printing variables mid-string can be very tricky. In order to interpolate a string with a variable, you need to place a `{}` in place of where the variable ought to show up in the string. In order to have a variable interpolated in the string, you need to use the `stringName.format()` function, where inside the format, the variable gets passed as a parameter: "
   ]
  },
  {
   "cell_type": "code",
   "execution_count": 21,
   "metadata": {},
   "outputs": [
    {
     "name": "stdout",
     "output_type": "stream",
     "text": [
      "hello, my name is Matt\n"
     ]
    }
   ],
   "source": [
    "name = \"Matt\"\n",
    "\n",
    "stringName = \"hello, my name is {}\"\n",
    "print(stringName.format(name))"
   ]
  },
  {
   "cell_type": "markdown",
   "metadata": {},
   "source": [
    "It's also possible to use more than one variable, and to pass them in a comma separated values: "
   ]
  },
  {
   "cell_type": "code",
   "execution_count": 22,
   "metadata": {},
   "outputs": [
    {
     "name": "stdout",
     "output_type": "stream",
     "text": [
      "hello, my name is Matt, and my social security number is: 1234561936 \n"
     ]
    }
   ],
   "source": [
    "name = \"Matt\"\n",
    "socialSecurityNumber = 1234561936\n",
    "\n",
    "\n",
    "stringName = \"hello, my name is {}, and my social security number is: {} \"\n",
    "print(stringName.format(name, socialSecurityNumber))"
   ]
  },
  {
   "cell_type": "markdown",
   "metadata": {},
   "source": [
    "#### Casting\n",
    "\n",
    "It might not always be the case that the type you have is the type you want. Sometimes you'll need to either convert a number from one type to another OR possibly you'll want to ensure that a specific number is a certain type when created: "
   ]
  },
  {
   "cell_type": "code",
   "execution_count": 32,
   "metadata": {},
   "outputs": [
    {
     "name": "stdout",
     "output_type": "stream",
     "text": [
      "someFloatingPoint =  6.3\n",
      "type(someFloatingPoint) =  <class 'float'>\n",
      "\n",
      "integerNumber =  6\n",
      "type(integerNumber) =  <class 'int'>\n",
      "\n",
      "floatingPointNumber =  3.0\n",
      "type(floatingPointNumber) =  <class 'float'>\n",
      "\n",
      "otherInteger =  3\n",
      "type(otherInteger) =  <class 'int'>\n",
      "\n",
      "someString =  6.3\n",
      "type(someString) =  <class 'str'>\n",
      "\n",
      "otherString =  5\n",
      "type(otherString) =  <class 'str'>\n"
     ]
    }
   ],
   "source": [
    "someFloatingPoint = 6.3\n",
    "integerNumber = int(someFloatingPoint)\n",
    "\n",
    "floatingPointNumber = float(3)\n",
    "otherInteger = int(\"3\")\n",
    "\n",
    "someString = str(someFloatingPoint)\n",
    "otherString = str(5)\n",
    "\n",
    "print('someFloatingPoint = ', someFloatingPoint)\n",
    "print('type(someFloatingPoint) = ', type(someFloatingPoint))\n",
    "\n",
    "print('\\nintegerNumber = ', integerNumber)\n",
    "print('type(integerNumber) = ', type(integerNumber))\n",
    "\n",
    "print('\\nfloatingPointNumber = ', floatingPointNumber)\n",
    "print('type(floatingPointNumber) = ', type(floatingPointNumber))\n",
    "\n",
    "print('\\notherInteger = ', otherInteger)\n",
    "print('type(otherInteger) = ', type(otherInteger))\n",
    "\n",
    "print('\\nsomeString = ', someString)\n",
    "print('type(someString) = ', type(someString))\n",
    "\n",
    "print('\\notherString = ', otherString)\n",
    "print('type(otherString) = ', type(otherString))"
   ]
  },
  {
   "cell_type": "markdown",
   "metadata": {},
   "source": [
    "\n",
    "\n",
    "### Operators\n",
    "\n",
    "Almost all operators of python are similar to all other languages, but there are a few differences that we haven't seen (primarily the logical operators):\n",
    "\n",
    "#### Maths\n",
    "\n",
    "Arithmetic operators in python are just like those of every other language. Addition `+`, subtraction `-`, multiplication `*`, division `/`, modulus `%`,  are the same as in every other language. Exponentiation `**` is the same as PHP, such that some variable as x^2 is represented as `x**2`. \n",
    "\n",
    "One addition to the maths we haven't seen yet is floor division.  It is possible you may see it in documentation. Regardless, floor division leaves out the decimal places to give an integer value. Suppose we divided 9 by 2, instead of receiving 4.5, we'd receive 4: "
   ]
  },
  {
   "cell_type": "code",
   "execution_count": 33,
   "metadata": {},
   "outputs": [
    {
     "name": "stdout",
     "output_type": "stream",
     "text": [
      "4\n"
     ]
    }
   ],
   "source": [
    "numeral = 9\n",
    "divisor = 2\n",
    "\n",
    "someVariable = 9 // 2\n",
    "print(someVariable)"
   ]
  },
  {
   "cell_type": "markdown",
   "metadata": {},
   "source": [
    "#### Logical\n",
    "\n",
    "Unlike the languages we've looked at previously, logical operators are significantly different in python. Because python is a language written to be more human readable, instead of using operators like `&&` and `||`, we instead need to use the words themselves: \n",
    "\n",
    "Instead of doing: "
   ]
  },
  {
   "cell_type": "code",
   "execution_count": 35,
   "metadata": {},
   "outputs": [
    {
     "name": "stdout",
     "output_type": "stream",
     "text": [
      "true and true:  True\n",
      "true and false:  False\n",
      "false and false:  False\n",
      "true or true:  True\n",
      "true or false:  True\n",
      "false or false:  False\n",
      "not true:  False\n",
      "not false:  True\n"
     ]
    }
   ],
   "source": [
    "trueAndTrue = True and True\n",
    "trueAndFalse = True and False\n",
    "falseAndFalse = False and False\n",
    "\n",
    "trueOrTrue = True or True\n",
    "trueOrFalse = True or False\n",
    "falseOrFalse = False or False\n",
    "\n",
    "notTrue = not True\n",
    "notFalse = not False\n",
    "\n",
    "print(\"true and true: \", trueAndTrue)\n",
    "print(\"true and false: \", trueAndFalse)\n",
    "print(\"false and false: \", falseAndFalse)\n",
    "\n",
    "print(\"true or true: \", trueOrTrue)\n",
    "print(\"true or false: \", trueOrFalse)\n",
    "print(\"false or false: \", falseOrFalse)\n",
    "print(\"not true: \", notTrue)\n",
    "print(\"not false: \", notFalse)"
   ]
  },
  {
   "cell_type": "markdown",
   "metadata": {},
   "source": [
    "While it is easy to see these working here, it is sometimes very easy to forget that `&&` and `||` do not work in python. If you find a syntax error in your code pointing to logical operators, it's likely because you've used one that works with a c-style language, and did not use the more human readable words used in python. \n",
    "\n",
    "\n",
    "\n",
    "### Functions\n",
    "\n",
    "The more we get into functions, control flow and more advanced data structures, the differences of python become more apparent. Functions are defined in python with the keyword: `func`.  Let's take a look at a basic function that will add one to a number and then print it: "
   ]
  },
  {
   "cell_type": "code",
   "execution_count": 39,
   "metadata": {},
   "outputs": [],
   "source": [
    "def addOneAndPrintSomething(something): \n",
    "  newValue = something + 1\n",
    "  print(\"The new value is \", newValue)"
   ]
  },
  {
   "cell_type": "markdown",
   "metadata": {},
   "source": [
    "When calling this function, we call it just as if we'd call any other function: "
   ]
  },
  {
   "cell_type": "code",
   "execution_count": 40,
   "metadata": {},
   "outputs": [
    {
     "name": "stdout",
     "output_type": "stream",
     "text": [
      "The new value is  6\n"
     ]
    }
   ],
   "source": [
    "someNumber = 5\n",
    "addOneAndPrintSomething(someNumber)"
   ]
  },
  {
   "cell_type": "markdown",
   "metadata": {},
   "source": [
    "In order to return data from a function, the return keyword is required: "
   ]
  },
  {
   "cell_type": "code",
   "execution_count": 43,
   "metadata": {},
   "outputs": [],
   "source": [
    "def addOneAndPrintSomething(something): \n",
    "  newValue = something + 1\n",
    "  print(\"The new value is \", newValue)\n",
    "  return newValue"
   ]
  },
  {
   "cell_type": "markdown",
   "metadata": {},
   "source": [
    "And storying that data looks just like any other function: "
   ]
  },
  {
   "cell_type": "code",
   "execution_count": 44,
   "metadata": {},
   "outputs": [
    {
     "name": "stdout",
     "output_type": "stream",
     "text": [
      "The new value is  6\n",
      "New number is:  6\n"
     ]
    }
   ],
   "source": [
    "someNumber = 5\n",
    "newNumber = addOneAndPrintSomething(someNumber)\n",
    "\n",
    "print(\"New number is: \", newNumber)"
   ]
  },
  {
   "cell_type": "markdown",
   "metadata": {},
   "source": [
    "As a note concerning scoping, when using a function, just like other languages, if you declare a variable inside of a function, you will not be able to access it outside of the function. The following code will error out: "
   ]
  },
  {
   "cell_type": "code",
   "execution_count": 48,
   "metadata": {},
   "outputs": [
    {
     "name": "stdout",
     "output_type": "stream",
     "text": [
      "The new value is  6\n"
     ]
    },
    {
     "ename": "NameError",
     "evalue": "name 'newValue' is not defined",
     "output_type": "error",
     "traceback": [
      "\u001b[0;31m---------------------------------------------------------------------------\u001b[0m",
      "\u001b[0;31mNameError\u001b[0m                                 Traceback (most recent call last)",
      "\u001b[0;32m<ipython-input-48-c73279fb3938>\u001b[0m in \u001b[0;36m<module>\u001b[0;34m\u001b[0m\n\u001b[1;32m      8\u001b[0m \u001b[0mnewNumber\u001b[0m \u001b[0;34m=\u001b[0m \u001b[0maddOneAndPrintSomething\u001b[0m\u001b[0;34m(\u001b[0m\u001b[0msomeNumber\u001b[0m\u001b[0;34m)\u001b[0m\u001b[0;34m\u001b[0m\u001b[0m\n\u001b[1;32m      9\u001b[0m \u001b[0;34m\u001b[0m\u001b[0m\n\u001b[0;32m---> 10\u001b[0;31m \u001b[0mprint\u001b[0m\u001b[0;34m(\u001b[0m\u001b[0;34m\"Printing the value newValue from line 2: \"\u001b[0m\u001b[0;34m,\u001b[0m \u001b[0mnewValue\u001b[0m\u001b[0;34m)\u001b[0m\u001b[0;34m\u001b[0m\u001b[0m\n\u001b[0m",
      "\u001b[0;31mNameError\u001b[0m: name 'newValue' is not defined"
     ]
    }
   ],
   "source": [
    "def addOneAndPrintSomething(something): \n",
    "  newValue = something + 1\n",
    "  print(\"The new value is \", newValue)\n",
    "  return newValue\n",
    "\n",
    "\n",
    "someNumber = 5\n",
    "newNumber = addOneAndPrintSomething(someNumber)\n",
    "\n",
    "print(\"Printing the value newValue from line 2: \", newValue)"
   ]
  },
  {
   "cell_type": "markdown",
   "metadata": {},
   "source": [
    "### Control Flow\n",
    "\n",
    "#### If/Else: \n",
    "\n",
    "If statements in python work just like any other languages, but the syntax is just slightly different (beyond using indentation as scoping), that is, you don't need to wrap the truth statement in parentheses like in other languages: "
   ]
  },
  {
   "cell_type": "code",
   "execution_count": 49,
   "metadata": {},
   "outputs": [
    {
     "name": "stdout",
     "output_type": "stream",
     "text": [
      "The number 10 is greater than 7\n"
     ]
    }
   ],
   "source": [
    "number = 10\n",
    "if number > 7: \n",
    "  printString = \"The number {} is greater than 7\".format(number)\n",
    "  print(printString)"
   ]
  },
  {
   "cell_type": "markdown",
   "metadata": {},
   "source": [
    "If/Else statements work just the same: "
   ]
  },
  {
   "cell_type": "code",
   "execution_count": 50,
   "metadata": {},
   "outputs": [
    {
     "name": "stdout",
     "output_type": "stream",
     "text": [
      "The number 6 is not greater than 7\n"
     ]
    }
   ],
   "source": [
    "number = 6\n",
    "if number > 7: \n",
    "  printString = \"The number {} is greater than 7\".format(number)\n",
    "  print(printString)\n",
    "else: \n",
    "  printString = \"The number {} is not greater than 7\".format(number)\n",
    "  print(printString)"
   ]
  },
  {
   "cell_type": "markdown",
   "metadata": {},
   "source": [
    "Take note that the else has the same indentation as the if! \n",
    "\n",
    "\n",
    "\n",
    "Nested if/else statements are use the `elif` notation, as opposed to the `else if` notation: "
   ]
  },
  {
   "cell_type": "code",
   "execution_count": 53,
   "metadata": {},
   "outputs": [
    {
     "name": "stdout",
     "output_type": "stream",
     "text": [
      "The number 7 is 7!\n"
     ]
    }
   ],
   "source": [
    "number = 7\n",
    "if number > 7: \n",
    "  printString = \"The number {} is greater than 7\".format(number)\n",
    "  print(printString)\n",
    "elif number == 7: \n",
    "  printString = \"The number {} is 7!\".format(number)\n",
    "  print(printString)\n",
    "else: \n",
    "  printString = \"The number {} is less than 7\".format(number)\n",
    "  print(printString)"
   ]
  },
  {
   "cell_type": "markdown",
   "metadata": {},
   "source": [
    "A note about scoping and python. It is possible to define a variable inside of an if/else block and access it outside of the block: "
   ]
  },
  {
   "cell_type": "code",
   "execution_count": 54,
   "metadata": {},
   "outputs": [
    {
     "name": "stdout",
     "output_type": "stream",
     "text": [
      "I am a string assigned inside the if\n"
     ]
    }
   ],
   "source": [
    "number = 10\n",
    "if number > 7: \n",
    "  someValue = \"I am a string assigned inside the if\"\n",
    "\n",
    "print(someValue)"
   ]
  },
  {
   "cell_type": "markdown",
   "metadata": {},
   "source": [
    "\n",
    "\n",
    "#### Loops: \n",
    "\n",
    "Loops in python mostly work the same as in all other languages. While loops have a singular condition on which to stop. Like the if/elses before,  the conditions do not require parentheses around them: "
   ]
  },
  {
   "cell_type": "code",
   "execution_count": 55,
   "metadata": {},
   "outputs": [
    {
     "name": "stdout",
     "output_type": "stream",
     "text": [
      "0\n",
      "1\n",
      "2\n",
      "3\n",
      "4\n",
      "5\n",
      "6\n",
      "7\n",
      "8\n",
      "9\n"
     ]
    }
   ],
   "source": [
    "counter = 0\n",
    "while counter < 10: \n",
    "  print(counter)\n",
    "  counter = counter + 1"
   ]
  },
  {
   "cell_type": "markdown",
   "metadata": {},
   "source": [
    "For loops are a bit different, in that they act more as `for each` loops, instead.  As an example, suppose we have a string \"some string\". Because strings are really character arrays behind the scenes, we can iterate over each character in the string, such as: "
   ]
  },
  {
   "cell_type": "code",
   "execution_count": 57,
   "metadata": {},
   "outputs": [
    {
     "name": "stdout",
     "output_type": "stream",
     "text": [
      "Letter:  s\n",
      "Letter:  o\n",
      "Letter:  m\n",
      "Letter:  e\n",
      "Letter:   \n",
      "Letter:  s\n",
      "Letter:  t\n",
      "Letter:  r\n",
      "Letter:  i\n",
      "Letter:  n\n",
      "Letter:  g\n"
     ]
    }
   ],
   "source": [
    "for letter in \"some string\":\n",
    "   print(\"Letter: \", letter)"
   ]
  },
  {
   "cell_type": "markdown",
   "metadata": {},
   "source": [
    "In the above code, we iterate over each specific letter in the array, and then print it out. This works the same for arrays, which we'll be getting into next (where we'll see more examples of how for loops work in python).\n",
    "\n",
    "\n",
    "\n",
    "### Advanced Data Structures\n",
    "\n",
    "#### Lists\n",
    "\n",
    "In python, what are usually known as arrays are referred to as lists. These lists are quite literally just a group of variables that are stored inside of one variable name, and are accessed by a numerical index. For example, suppose I had a list of band members, such as the 'NSync. You can store all of those 'NSync into a single variable with the list syntax (which just so happens to look like every other language's array syntax) : "
   ]
  },
  {
   "cell_type": "code",
   "execution_count": 58,
   "metadata": {},
   "outputs": [],
   "source": [
    "nSync = ['Justin Timberlake', 'Chris Kirkpatrick', 'Joey Fatone', 'Lance Bass', 'JC Chasez']"
   ]
  },
  {
   "cell_type": "markdown",
   "metadata": {},
   "source": [
    "Now, suppose you wanted to loop over `NSync to print out each of their names, you could do so by using either a while loop, like: "
   ]
  },
  {
   "cell_type": "code",
   "execution_count": 59,
   "metadata": {},
   "outputs": [
    {
     "name": "stdout",
     "output_type": "stream",
     "text": [
      "Justin Timberlake\n",
      "Chris Kirkpatrick\n",
      "Joey Fatone\n",
      "Lance Bass\n",
      "JC Chasez\n"
     ]
    }
   ],
   "source": [
    "counter = 0\n",
    "while counter < len(nSync):\n",
    "  print(nSync[counter])\n",
    "  counter += 1"
   ]
  },
  {
   "cell_type": "markdown",
   "metadata": {},
   "source": [
    "The above works just fine, however, it's just as easy to loop over a list with the for, so that we can access each individual element as if it were a variable: "
   ]
  },
  {
   "cell_type": "code",
   "execution_count": 60,
   "metadata": {},
   "outputs": [
    {
     "name": "stdout",
     "output_type": "stream",
     "text": [
      "Justin Timberlake\n",
      "Chris Kirkpatrick\n",
      "Joey Fatone\n",
      "Lance Bass\n",
      "JC Chasez\n"
     ]
    }
   ],
   "source": [
    "for syncedPerson in nSync:\n",
    "  print(syncedPerson)"
   ]
  },
  {
   "cell_type": "markdown",
   "metadata": {},
   "source": [
    "Lists in python do not have to all be of the same datatype either: "
   ]
  },
  {
   "cell_type": "code",
   "execution_count": 61,
   "metadata": {},
   "outputs": [
    {
     "name": "stdout",
     "output_type": "stream",
     "text": [
      "Cool stuff\n",
      "23\n",
      "Neat!\n",
      "32.5\n",
      "True\n"
     ]
    }
   ],
   "source": [
    "myList = [\"Cool stuff\", 23, \"Neat!\", 32.5, True ]\n",
    "\n",
    "for item in myList: \n",
    "  print(item)"
   ]
  },
  {
   "cell_type": "markdown",
   "metadata": {},
   "source": [
    "The ability to have more than one datatype in a list is very nice, however it can be extremely problematic when passing lists to and from functions. \n",
    "\n",
    "\n",
    "\n",
    "**NOTE:** While it's easy to see that we can loop over a list quite easily, it is good to know that if you are attempting to loop over an array and manipulate it, then you'll be in for a surprise if you wind up using a for each loop: "
   ]
  },
  {
   "cell_type": "code",
   "execution_count": 68,
   "metadata": {},
   "outputs": [
    {
     "name": "stdout",
     "output_type": "stream",
     "text": [
      "\n",
      "Now printing myArray:\n",
      "a\n",
      "b\n",
      "c\n",
      "\n",
      "Using for loop to 'change' myArray\n",
      "0\n",
      "0\n",
      "0\n",
      "\n",
      "Now printing myArray:\n",
      "a\n",
      "b\n",
      "c\n",
      "\n",
      "Using while loop to change myArray\n",
      "\n",
      "Now printing myArray:\n",
      "0\n",
      "0\n",
      "0\n"
     ]
    }
   ],
   "source": [
    "def printArr(arr):\n",
    "  for elm in arr:\n",
    "    print(elm)\n",
    "    \n",
    "myArray = ['a','b','c']\n",
    "\n",
    "print(\"\\nNow printing myArray:\")\n",
    "printArr(myArray)\n",
    "\n",
    "print(\"\\nUsing for loop to 'change' myArray\")\n",
    "for element in myArray:\n",
    "  element = 0\n",
    "  print(element)\n",
    "  \n",
    "print(\"\\nNow printing myArray:\")\n",
    "printArr(myArray)\n",
    "\n",
    "print(\"\\nUsing while loop to change myArray\")\n",
    "counter = 0\n",
    "while counter < len(myArray): \n",
    "  myArray[counter] = 0\n",
    "  counter += 1\n",
    "  \n",
    "print(\"\\nNow printing myArray:\")\n",
    "printArr(myArray)"
   ]
  },
  {
   "cell_type": "markdown",
   "metadata": {},
   "source": [
    "So, what's happening in the above code is that we create an array, try to manipulate it with a `for` loop, but inside that for loop, what's happening is that we're actually reassigning a copy of the data, not the data itself. When we use the `while` loop, we are accessing the data directly, and can then overwrite it. \n",
    "\n",
    "\n",
    "\n",
    "Additionally, it should be noted that when passing lists to functions, the values are passed by reference: "
   ]
  },
  {
   "cell_type": "code",
   "execution_count": 70,
   "metadata": {},
   "outputs": [
    {
     "name": "stdout",
     "output_type": "stream",
     "text": [
      "a\n",
      "b\n",
      "c\n",
      "0\n",
      "0\n",
      "0\n"
     ]
    }
   ],
   "source": [
    "def printArr(arr):\n",
    "  for elm in arr:\n",
    "    print(elm)\n",
    "\n",
    "def doStuff(arr):\n",
    "  counter = 0\n",
    "  while counter < len(arr):\n",
    "    arr[counter] = 0\n",
    "    counter += 1\n",
    "        \n",
    "myArray = ['a','b','c']\n",
    "\n",
    "printArr(myArray)\n",
    "doStuff(myArray)\n",
    "printArr(myArray)"
   ]
  },
  {
   "cell_type": "markdown",
   "metadata": {},
   "source": [
    "#### Dictionaries\n",
    "\n",
    "More advanced data structures like dictionaries also exist in python. Remember that dictionaries are just variables that house multiple data in them like arrays, but instead of being indexed with numbers, the data are accessed with key-value pairing: `containerName[\"key\"] = \"value\"`.  Dictionaries are defined as: "
   ]
  },
  {
   "cell_type": "code",
   "execution_count": 71,
   "metadata": {},
   "outputs": [],
   "source": [
    "myDictionary = {\n",
    "  \"key\":\"value\", \n",
    "  \"alsoAKey\":\"some different value\", \n",
    "  \"finalKey\": \"other value\"\n",
    "}"
   ]
  },
  {
   "cell_type": "markdown",
   "metadata": {},
   "source": [
    "In `myDictionary` defined above, we have three elements, each one of those elements is accessed like: "
   ]
  },
  {
   "cell_type": "code",
   "execution_count": 72,
   "metadata": {},
   "outputs": [
    {
     "name": "stdout",
     "output_type": "stream",
     "text": [
      "value\n",
      "some different value\n",
      "other value\n"
     ]
    }
   ],
   "source": [
    "print(myDictionary[\"key\"])\n",
    "print(myDictionary[\"alsoAKey\"])\n",
    "print(myDictionary[\"finalKey\"])"
   ]
  },
  {
   "cell_type": "markdown",
   "metadata": {},
   "source": [
    "Dictionaries are very powerful, but they're typically not used in the same way as are arrays. That being said, if it were required, it is possible to iterate over a dictionary, either the keys, values, or both: "
   ]
  },
  {
   "cell_type": "code",
   "execution_count": 73,
   "metadata": {},
   "outputs": [
    {
     "name": "stdout",
     "output_type": "stream",
     "text": [
      "key\n",
      "alsoAKey\n",
      "finalKey\n"
     ]
    }
   ],
   "source": [
    "for dictionaryItem in myDictionary: \n",
    "  print(dictionaryItem)"
   ]
  },
  {
   "cell_type": "markdown",
   "metadata": {},
   "source": [
    "Notice that it prints only the dictionary key. To get the values you'd need to either use: "
   ]
  },
  {
   "cell_type": "code",
   "execution_count": 74,
   "metadata": {},
   "outputs": [
    {
     "name": "stdout",
     "output_type": "stream",
     "text": [
      "value\n",
      "some different value\n",
      "other value\n"
     ]
    }
   ],
   "source": [
    "for dictionaryItem in myDictionary: \n",
    "  print(myDictionary[dictionaryItem])"
   ]
  },
  {
   "cell_type": "markdown",
   "metadata": {},
   "source": [
    "OR you can loop over the values as: "
   ]
  },
  {
   "cell_type": "code",
   "execution_count": 75,
   "metadata": {},
   "outputs": [
    {
     "name": "stdout",
     "output_type": "stream",
     "text": [
      "value\n",
      "some different value\n",
      "other value\n"
     ]
    }
   ],
   "source": [
    "for dictionaryItem in myDictionary.values(): \n",
    "  print(dictionaryItem)"
   ]
  },
  {
   "cell_type": "markdown",
   "metadata": {},
   "source": [
    "Many libraries in python make heavy use of dictionaries, so it's very good to get used to dictionary syntax. One of those popular libraries is the [pandas](https://pandas.pydata.org/) library for data analysis and manipulation. \n",
    "\n",
    "\n",
    "\n",
    "#### Classes and Objects\n",
    "\n",
    "Class definitions in python are a bit different than in other languages you may have already encountered, that is, beyond the difference in defining scope. Python constructors act a bit differently than constructors for other classes. Before we get to that though, it's worth noting that python classes don't necessarily need a construct (assuming that your class doesn't need to do any heavy lifting): "
   ]
  },
  {
   "cell_type": "code",
   "execution_count": 76,
   "metadata": {},
   "outputs": [],
   "source": [
    "class HumanPerson: \n",
    "  name = \"Matt\"\n",
    "  age = 31\n",
    "  ssn = 123456789"
   ]
  },
  {
   "cell_type": "markdown",
   "metadata": {},
   "source": [
    "To instantiate a class and then use it, you need only to invoke, then access the internal variables with the dot operator: "
   ]
  },
  {
   "cell_type": "code",
   "execution_count": 77,
   "metadata": {},
   "outputs": [
    {
     "name": "stdout",
     "output_type": "stream",
     "text": [
      "Matt's social security number is 123456789\n"
     ]
    }
   ],
   "source": [
    "matt = HumanPerson()\n",
    "\n",
    "mattsSocialSecurityNumber = matt.ssn\n",
    "print(\"Matt's social security number is {}\".format(mattsSocialSecurityNumber))"
   ]
  },
  {
   "cell_type": "markdown",
   "metadata": {},
   "source": [
    "You can also modify the object's values by using simple assignments on the dot operators: "
   ]
  },
  {
   "cell_type": "code",
   "execution_count": 78,
   "metadata": {},
   "outputs": [
    {
     "name": "stdout",
     "output_type": "stream",
     "text": [
      "Matt's original social security number is 123456789\n",
      "Matt's NEW social security number is 000000001\n"
     ]
    }
   ],
   "source": [
    "matt = HumanPerson()\n",
    "\n",
    "print(\"Matt's original social security number is {}\".format(matt.ssn))\n",
    "matt.ssn = '000000001'\n",
    "print(\"Matt's NEW social security number is {}\".format(matt.ssn))"
   ]
  },
  {
   "cell_type": "markdown",
   "metadata": {},
   "source": [
    "Not every class is as simple as one that just stores data. Suppose your class needs to do a bit more heavy lifting you'll need to create a constructor. Python constructors are significantly different from constructors in other languages, specifically in that they are not named the same name as the class with a function parameter, they instead are a function called `__init__`. Additionally, the very first parameter of this function must always be a reference to the instance calling the class. Typically, it's written as `self`, however, if you're familiar with c-style languages, think of `self` as python's version of `this`. Let's take a look at a more significant class: "
   ]
  },
  {
   "cell_type": "code",
   "execution_count": 79,
   "metadata": {},
   "outputs": [],
   "source": [
    "class HumanPerson: \n",
    "  def __init__(self, name, age, ssn): \n",
    "    self.name = name\n",
    "    self.age = age\n",
    "    self.ssn = ssn"
   ]
  },
  {
   "cell_type": "markdown",
   "metadata": {},
   "source": [
    "By writing the code as above, the values stored in `name`, `age`, and `ssn` are all passed in as parameters, such as: "
   ]
  },
  {
   "cell_type": "code",
   "execution_count": 80,
   "metadata": {},
   "outputs": [
    {
     "name": "stdout",
     "output_type": "stream",
     "text": [
      "Matt's social security number is 123456789\n"
     ]
    }
   ],
   "source": [
    "matt = HumanPerson(\"Matt\", 31, 123456789)\n",
    "\n",
    "mattsSocialSecurityNumber = matt.ssn\n",
    "print(\"Matt's social security number is {}\".format(mattsSocialSecurityNumber))"
   ]
  },
  {
   "cell_type": "markdown",
   "metadata": {},
   "source": [
    "Notice that we didn't pass in self? That can be a big trip up for a lot of folks. Just know that when defining your constructor function, you need to have a self, but when calling it, you only need to pass in the parameters that aren't `self`. \n",
    "\n",
    "\n",
    "\n",
    "As you've probably noticed, there's a def in front of our `__init__`.  That's the exact same way you'd define any other method in your class: "
   ]
  },
  {
   "cell_type": "code",
   "execution_count": 88,
   "metadata": {},
   "outputs": [
    {
     "name": "stdout",
     "output_type": "stream",
     "text": [
      "oh hello, from the object!\n"
     ]
    }
   ],
   "source": [
    "class HumanPerson: \n",
    "  def __init__(self, name, age, ssn): \n",
    "    self.name = name\n",
    "    self.age = age\n",
    "    self.ssn = ssn\n",
    "    \n",
    "  def doStuff(self): \n",
    "    print(\"oh hello, from the object!\")\n",
    "\n",
    " \n",
    "matt = HumanPerson(\"Matt\", 31, 123456789)\n",
    "matt.doStuff()"
   ]
  },
  {
   "cell_type": "markdown",
   "metadata": {},
   "source": [
    "Suppose you didn't pass in self, though, let's see what happens: "
   ]
  },
  {
   "cell_type": "code",
   "execution_count": 91,
   "metadata": {},
   "outputs": [
    {
     "ename": "TypeError",
     "evalue": "doStuff() takes 0 positional arguments but 1 was given",
     "output_type": "error",
     "traceback": [
      "\u001b[0;31m---------------------------------------------------------------------------\u001b[0m",
      "\u001b[0;31mTypeError\u001b[0m                                 Traceback (most recent call last)",
      "\u001b[0;32m<ipython-input-91-9c5de58b1753>\u001b[0m in \u001b[0;36m<module>\u001b[0;34m\u001b[0m\n\u001b[1;32m     10\u001b[0m \u001b[0;34m\u001b[0m\u001b[0m\n\u001b[1;32m     11\u001b[0m \u001b[0mmatt\u001b[0m \u001b[0;34m=\u001b[0m \u001b[0mHumanPerson\u001b[0m\u001b[0;34m(\u001b[0m\u001b[0;34m\"Matt\"\u001b[0m\u001b[0;34m,\u001b[0m \u001b[0;36m31\u001b[0m\u001b[0;34m,\u001b[0m \u001b[0;36m123456789\u001b[0m\u001b[0;34m)\u001b[0m\u001b[0;34m\u001b[0m\u001b[0m\n\u001b[0;32m---> 12\u001b[0;31m \u001b[0mmatt\u001b[0m\u001b[0;34m.\u001b[0m\u001b[0mdoStuff\u001b[0m\u001b[0;34m(\u001b[0m\u001b[0;34m)\u001b[0m\u001b[0;34m\u001b[0m\u001b[0m\n\u001b[0m",
      "\u001b[0;31mTypeError\u001b[0m: doStuff() takes 0 positional arguments but 1 was given"
     ]
    }
   ],
   "source": [
    "class HumanPerson: \n",
    "  def __init__(self, name, age, ssn): \n",
    "    self.name = name\n",
    "    self.age = age\n",
    "    self.ssn = ssn\n",
    "    \n",
    "  def doStuff(): \n",
    "    print(\"oh hello, from the object!\")\n",
    "\n",
    "\n",
    "matt = HumanPerson(\"Matt\", 31, 123456789)\n",
    "matt.doStuff()"
   ]
  },
  {
   "cell_type": "markdown",
   "metadata": {},
   "source": [
    "The reason as to why this is the case, is because we're passing in that `self` object. \n",
    "\n",
    "In order to access a function that we pass no `self` into, we'll need to access it by the actual class name: "
   ]
  },
  {
   "cell_type": "code",
   "execution_count": 93,
   "metadata": {},
   "outputs": [
    {
     "name": "stdout",
     "output_type": "stream",
     "text": [
      "oh hello, from the object!\n"
     ]
    }
   ],
   "source": [
    "HumanPerson.doStuff()"
   ]
  },
  {
   "cell_type": "markdown",
   "metadata": {},
   "source": [
    "If we did want to allow for each possible object to access that function, we'll need to pass in the `self`: "
   ]
  },
  {
   "cell_type": "code",
   "execution_count": 99,
   "metadata": {},
   "outputs": [],
   "source": [
    "class HumanPerson: \n",
    "  def __init__(self, name, age, ssn): \n",
    "    self.name = name\n",
    "    self.age = age\n",
    "    self.ssn = ssn\n",
    "    \n",
    "  def doStuff(): \n",
    "    print(\"oh hello, from the object!\")\n",
    "\n",
    "  def doStuff(self): \n",
    "    print(\"{}'s social security number is {}\".format(self.name, self.ssn))"
   ]
  },
  {
   "cell_type": "markdown",
   "metadata": {},
   "source": [
    "By passing in self on `printHuman` we now have access to that specific instance's variables inside the class object. "
   ]
  },
  {
   "cell_type": "code",
   "execution_count": 101,
   "metadata": {},
   "outputs": [
    {
     "name": "stdout",
     "output_type": "stream",
     "text": [
      "Matt's social security number is 123456789\n"
     ]
    }
   ],
   "source": [
    "matt = HumanPerson(\"Matt\", 31, 123456789)\n",
    "matt.doStuff()"
   ]
  }
 ],
 "metadata": {
  "kernelspec": {
   "display_name": "Python 3",
   "language": "python",
   "name": "python3"
  },
  "language_info": {
   "codemirror_mode": {
    "name": "ipython",
    "version": 3
   },
   "file_extension": ".py",
   "mimetype": "text/x-python",
   "name": "python",
   "nbconvert_exporter": "python",
   "pygments_lexer": "ipython3",
   "version": "3.7.3"
  }
 },
 "nbformat": 4,
 "nbformat_minor": 2
}
