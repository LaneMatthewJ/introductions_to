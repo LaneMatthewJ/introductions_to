{
 "cells": [
  {
   "cell_type": "markdown",
   "metadata": {},
   "source": [
    "# NumPy\n",
    "\n",
    "Numpy is a package for scientific computing with python. Ultimately speaking, it is a package that can do a ton of amazing linear algebra calculations. It can do a whole lot more. It contains: \n",
    "\n",
    "- a powerful N-dimensional array object\n",
    "- sophisticated (broadcasting) functions\n",
    "- tools for integrating C/C++ and Fortran code\n",
    "- useful linear algebra, Fourier transform, and random number capabilities\n",
    "\n",
    "\n",
    "For our purposes however, we'll be using it for its abilities to work with multidimensional data. To learn more about what NumPy is capable of, check out the [NumPy website]('https://numpy.org'). \n",
    "\n",
    "## Installation\n",
    "\n",
    "There are a number of ways to install numpy. I'd highly recommend downloading anaconda, a scientific package handler. When downloading the anaconda suite, you'll recieve a number of packages including numpy, scipy, pandas, seaborn, and matplotlib, to name a few. [Follow this link to download anaconda]('https://www.anaconda.com'). If you choose to go that route, you can view all of your packages by typing: \n",
    "\n",
    "`conda list`\n",
    "\n",
    "Otherwise, you need to use `pip`, the python package installer. You can see all of its documentation at the [pip website]('https://pip.pypa.io/en/stable/')\n",
    "\n",
    "To see if you have pip already installed, in your command line, type: \n",
    "\n",
    "```pip --version```\n",
    "\n",
    "If you already have pip installed, you ought to see something like: \n",
    "\n",
    "```pip 19.2.3 from /Users/matthewlane/anaconda3/lib/python3.6/site-packages/pip (python 3.6)```\n",
    "\n",
    "If you do not have pip installed, follow the documentation at the [pip website]('https://pip.pypa.io/en/stable/installing/'). You can also quickly install pip via these commands via the command line: \n",
    "\n",
    "```\n",
    "curl https://bootstrap.pypa.io/get-pip.py -o get-pip.py\n",
    "python get-pip.py\n",
    "```\n",
    "\n",
    "(Note: It is also possible to install pip via package managers such as Homebrew or apt-get).\n",
    "\n",
    "\n",
    "Once pip is installed, to install Numpy, you simply install it to your environment via: \n",
    "\n",
    "```pip install numpy```\n",
    "\n",
    "To check if you've successfully installed NumPy, in your command line type: \n",
    "\n",
    "```pip list | grep numpy```\n",
    "\n",
    "If you have successfully installed it, you ought to see:\n",
    "\n",
    "```numpy      1.17.2```\n",
    "\n",
    "(and possibly a few other packages containing numpy)\n",
    "\n",
    "\n",
    "To use numpy, you need to import it into your project. By typing `import numpy as np` you'll be aliasing the numpy library as np (just for accessing the library more quickly): \n"
   ]
  },
  {
   "cell_type": "code",
   "execution_count": 1,
   "metadata": {},
   "outputs": [],
   "source": [
    "import numpy as np"
   ]
  },
  {
   "cell_type": "markdown",
   "metadata": {},
   "source": [
    "In python, we're able to create a list or a matrix by typing: "
   ]
  },
  {
   "cell_type": "code",
   "execution_count": 2,
   "metadata": {},
   "outputs": [
    {
     "name": "stdout",
     "output_type": "stream",
     "text": [
      "[1, 2, 3, 4, 5]\n",
      "[[0, 1, 2, 3, 4, 5], [1, 0, 1, 2, 3, 4], [2, 1, 0, 1, 2, 3], [3, 2, 1, 0, 1, 2], [4, 3, 2, 1, 0, 1]]\n"
     ]
    }
   ],
   "source": [
    "someList = [1,2,3,4,5]\n",
    "someMatrix = [[0, 1, 2, 3, 4, 5],\n",
    "             [ 1, 0, 1, 2, 3, 4 ], \n",
    "             [ 2, 1, 0, 1, 2, 3 ], \n",
    "             [ 3, 2, 1, 0, 1, 2 ], \n",
    "             [ 4, 3, 2, 1, 0, 1 ]]\n",
    "\n",
    "print(someList)\n",
    "print(someMatrix)"
   ]
  },
  {
   "cell_type": "markdown",
   "metadata": {},
   "source": [
    "Numpy lets us easily take arrays and lists as parameters so that we can easily work with them: "
   ]
  },
  {
   "cell_type": "code",
   "execution_count": 3,
   "metadata": {},
   "outputs": [],
   "source": [
    "myNpArray = np.array(someList)\n",
    "myNpMatrix = np.array(someMatrix)"
   ]
  },
  {
   "cell_type": "code",
   "execution_count": 4,
   "metadata": {},
   "outputs": [
    {
     "name": "stdout",
     "output_type": "stream",
     "text": [
      "[1 2 3 4 5]\n",
      "[[0 1 2 3 4 5]\n",
      " [1 0 1 2 3 4]\n",
      " [2 1 0 1 2 3]\n",
      " [3 2 1 0 1 2]\n",
      " [4 3 2 1 0 1]]\n"
     ]
    }
   ],
   "source": [
    "print(myNpArray)\n",
    "print(myNpMatrix)"
   ]
  },
  {
   "cell_type": "markdown",
   "metadata": {},
   "source": [
    "Additionally, supposing that you don't wish to write out your entire matrix, there are a number of methods that may be useful: \n",
    "\n",
    "### arange\n",
    "\n",
    "By using arange, you can quickly create an array: "
   ]
  },
  {
   "cell_type": "code",
   "execution_count": 5,
   "metadata": {},
   "outputs": [
    {
     "data": {
      "text/plain": [
       "array([0, 1, 2, 3, 4, 5, 6, 7, 8, 9])"
      ]
     },
     "execution_count": 5,
     "metadata": {},
     "output_type": "execute_result"
    }
   ],
   "source": [
    "startingPoint = 0\n",
    "endingPoint = 10  ## Exclusive\n",
    "np.arange(startingPoint, endingPoint)"
   ]
  },
  {
   "cell_type": "markdown",
   "metadata": {},
   "source": [
    "It's also entirely possible to determine the increment of your array in the arange function: "
   ]
  },
  {
   "cell_type": "code",
   "execution_count": 6,
   "metadata": {},
   "outputs": [
    {
     "data": {
      "text/plain": [
       "array([0, 2, 4, 6, 8])"
      ]
     },
     "execution_count": 6,
     "metadata": {},
     "output_type": "execute_result"
    }
   ],
   "source": [
    "startingPoint = 0\n",
    "endingPoint = 10  ## Exclusive\n",
    "increment = 2\n",
    "np.arange(startingPoint, endingPoint, increment)"
   ]
  },
  {
   "cell_type": "markdown",
   "metadata": {},
   "source": [
    "### zeros\n",
    "\n",
    "Suppose you wanted to create an array or matrix quickly. You can create a zeroed out matrix by using `np.zeros()`\n",
    "\n",
    "For an array, you need only the array length: "
   ]
  },
  {
   "cell_type": "code",
   "execution_count": 7,
   "metadata": {},
   "outputs": [
    {
     "data": {
      "text/plain": [
       "array([0., 0., 0., 0.])"
      ]
     },
     "execution_count": 7,
     "metadata": {},
     "output_type": "execute_result"
    }
   ],
   "source": [
    "arrayLength = 4\n",
    "np.zeros(arrayLength)"
   ]
  },
  {
   "cell_type": "markdown",
   "metadata": {},
   "source": [
    "Matrices, however, require both the length of a row, as well as the length of the columns (or, for computer science terms, the length of an array, and the amount of arrays in the multidimensional array). \n",
    "\n",
    "Take notice, though, that you'll need to pass the data in as a tuple (that is, instead of passing in two parameters, a single parameter gets passed in as a tuple): "
   ]
  },
  {
   "cell_type": "code",
   "execution_count": 8,
   "metadata": {},
   "outputs": [
    {
     "data": {
      "text/plain": [
       "array([[0., 0., 0., 0.],\n",
       "       [0., 0., 0., 0.],\n",
       "       [0., 0., 0., 0.],\n",
       "       [0., 0., 0., 0.]])"
      ]
     },
     "execution_count": 8,
     "metadata": {},
     "output_type": "execute_result"
    }
   ],
   "source": [
    "rows = 4\n",
    "columns = 4\n",
    "\n",
    "rowColumnTuple = (rows, columns)\n",
    "\n",
    "np.zeros(rowColumnTuple)"
   ]
  },
  {
   "cell_type": "markdown",
   "metadata": {},
   "source": [
    "### ones\n",
    "\n",
    "The same methodologies that worked for zeros also works for ones: "
   ]
  },
  {
   "cell_type": "code",
   "execution_count": 9,
   "metadata": {},
   "outputs": [
    {
     "data": {
      "text/plain": [
       "array([1., 1., 1., 1.])"
      ]
     },
     "execution_count": 9,
     "metadata": {},
     "output_type": "execute_result"
    }
   ],
   "source": [
    "arrayLength = 4\n",
    "np.ones(arrayLength)"
   ]
  },
  {
   "cell_type": "code",
   "execution_count": 10,
   "metadata": {},
   "outputs": [
    {
     "data": {
      "text/plain": [
       "array([[1., 1., 1., 1.],\n",
       "       [1., 1., 1., 1.],\n",
       "       [1., 1., 1., 1.],\n",
       "       [1., 1., 1., 1.]])"
      ]
     },
     "execution_count": 10,
     "metadata": {},
     "output_type": "execute_result"
    }
   ],
   "source": [
    "rows = 4\n",
    "columns = 4\n",
    "\n",
    "rowColumnTuple = (rows, columns)\n",
    "\n",
    "np.ones(rowColumnTuple)"
   ]
  },
  {
   "cell_type": "markdown",
   "metadata": {},
   "source": [
    "### linspace\n",
    "\n",
    "To create an array that has evenly spaced values that are not integer intervals, use linspace. By using linspace, you don't enter the number to increment by, you enter the amount of numbers you would like in your array: "
   ]
  },
  {
   "cell_type": "code",
   "execution_count": 11,
   "metadata": {},
   "outputs": [
    {
     "data": {
      "text/plain": [
       "array([ 0., 10.])"
      ]
     },
     "execution_count": 11,
     "metadata": {},
     "output_type": "execute_result"
    }
   ],
   "source": [
    "startingPoint = 0\n",
    "endingPoint = 10  ## Exclusive\n",
    "amountOfNumbers = 2\n",
    "np.linspace(startingPoint, endingPoint, amountOfNumbers)"
   ]
  },
  {
   "cell_type": "code",
   "execution_count": 12,
   "metadata": {},
   "outputs": [
    {
     "data": {
      "text/plain": [
       "array([ 0.        ,  0.52631579,  1.05263158,  1.57894737,  2.10526316,\n",
       "        2.63157895,  3.15789474,  3.68421053,  4.21052632,  4.73684211,\n",
       "        5.26315789,  5.78947368,  6.31578947,  6.84210526,  7.36842105,\n",
       "        7.89473684,  8.42105263,  8.94736842,  9.47368421, 10.        ])"
      ]
     },
     "execution_count": 12,
     "metadata": {},
     "output_type": "execute_result"
    }
   ],
   "source": [
    "startingPoint = 0\n",
    "endingPoint = 10  ## Inclusive\n",
    "amountOfNumbers = 20\n",
    "np.linspace(startingPoint, endingPoint, amountOfNumbers)"
   ]
  },
  {
   "cell_type": "markdown",
   "metadata": {},
   "source": [
    "### eye\n",
    "\n",
    "The eye function produces an eye-dentity matrix! This function takes in literally only one parameter, which is the length of column/row (given that identity matrices are `n x n` matrices): "
   ]
  },
  {
   "cell_type": "code",
   "execution_count": 13,
   "metadata": {},
   "outputs": [
    {
     "data": {
      "text/plain": [
       "array([[1., 0., 0.],\n",
       "       [0., 1., 0.],\n",
       "       [0., 0., 1.]])"
      ]
     },
     "execution_count": 13,
     "metadata": {},
     "output_type": "execute_result"
    }
   ],
   "source": [
    "np.eye(3)"
   ]
  },
  {
   "cell_type": "markdown",
   "metadata": {},
   "source": [
    "### rand\n",
    "\n",
    "It is also possible to fill an array and matrix with random numbers (what is nice is that the random is already seeded, so you will receive \"random\" numbers every time): "
   ]
  },
  {
   "cell_type": "code",
   "execution_count": 14,
   "metadata": {},
   "outputs": [
    {
     "data": {
      "text/plain": [
       "array([0.12413475, 0.31539724, 0.06184091, 0.12287762, 0.72563279,\n",
       "       0.32798195, 0.51989487, 0.2412437 , 0.63748307, 0.08186862])"
      ]
     },
     "execution_count": 14,
     "metadata": {},
     "output_type": "execute_result"
    }
   ],
   "source": [
    "np.random.rand(10)"
   ]
  },
  {
   "cell_type": "markdown",
   "metadata": {},
   "source": [
    "Just as you can createa a random array, you can create a randomized matrix: "
   ]
  },
  {
   "cell_type": "code",
   "execution_count": 15,
   "metadata": {},
   "outputs": [
    {
     "data": {
      "text/plain": [
       "array([[0.64083356, 0.17440491, 0.36433419, 0.66712133],\n",
       "       [0.90153414, 0.26000524, 0.20281031, 0.32124052],\n",
       "       [0.76620735, 0.49665398, 0.04711449, 0.13530554],\n",
       "       [0.96163426, 0.52021155, 0.67482792, 0.30361416]])"
      ]
     },
     "execution_count": 15,
     "metadata": {},
     "output_type": "execute_result"
    }
   ],
   "source": [
    "np.random.rand(4, 4)"
   ]
  },
  {
   "cell_type": "markdown",
   "metadata": {},
   "source": [
    "## Methods\n",
    "\n",
    "While generating arrays and matrices is fun, it would be rather pointless without the ability to manipulate them. \n",
    "\n",
    "### Reshaping: \n",
    "It's possible that you may wish to reshape an array at a given time. In order to do so, simply use the reshape method: "
   ]
  },
  {
   "cell_type": "code",
   "execution_count": 16,
   "metadata": {},
   "outputs": [
    {
     "name": "stdout",
     "output_type": "stream",
     "text": [
      "Single Dimensional array: \n",
      " [0.8922966  0.3544306  0.01533947 0.2084559  0.64336946 0.96953758\n",
      " 0.01709565 0.95826237 0.80446295 0.00196007 0.47618238 0.00294245\n",
      " 0.07238956 0.5326511  0.54651923 0.20690257]\n",
      "\n",
      "\n",
      "Multidimensional array: \n",
      " [[0.8922966  0.3544306  0.01533947 0.2084559 ]\n",
      " [0.64336946 0.96953758 0.01709565 0.95826237]\n",
      " [0.80446295 0.00196007 0.47618238 0.00294245]\n",
      " [0.07238956 0.5326511  0.54651923 0.20690257]]\n"
     ]
    }
   ],
   "source": [
    "singleDimensionalArray = np.random.rand(16)\n",
    "\n",
    "print(\"Single Dimensional array: \\n\", singleDimensionalArray)\n",
    "\n",
    "multidimensionalArray = singleDimensionalArray.reshape(4,4)\n",
    "print(\"\\n\\nMultidimensional array: \\n\", multidimensionalArray)"
   ]
  },
  {
   "cell_type": "markdown",
   "metadata": {},
   "source": [
    "### Getting Values from the arrays and matrices: \n",
    "\n",
    "There are many times you'll want to get the max or min values from an array (and possibly also their locations):\n"
   ]
  },
  {
   "cell_type": "code",
   "execution_count": 17,
   "metadata": {},
   "outputs": [
    {
     "name": "stdout",
     "output_type": "stream",
     "text": [
      "Singledimensional array 0.9695375796054362 is at position 5 \n"
     ]
    }
   ],
   "source": [
    "singleDimensionMax = singleDimensionalArray.max()\n",
    "singleDimensionMaxLocation = singleDimensionalArray.argmax()\n",
    "print(\"Singledimensional array {} is at position {} \".format(singleDimensionMax, singleDimensionMaxLocation))"
   ]
  },
  {
   "cell_type": "code",
   "execution_count": 18,
   "metadata": {},
   "outputs": [
    {
     "name": "stdout",
     "output_type": "stream",
     "text": [
      "Multidimensional array 0.9695375796054362 is at position 5 \n"
     ]
    }
   ],
   "source": [
    "multiDimensionMax = multidimensionalArray.max()\n",
    "multiDimensionMaxLocation = multidimensionalArray.argmax()\n",
    "print(\"Multidimensional array {} is at position {} \".format(multiDimensionMax, multiDimensionMaxLocation))"
   ]
  },
  {
   "cell_type": "markdown",
   "metadata": {},
   "source": [
    "The functionality does work with both the single and multidimensional arrays, however, by attempting to get the argmax from a 2d array, you only get the offset from beginning of the array. "
   ]
  },
  {
   "cell_type": "markdown",
   "metadata": {},
   "source": [
    "## What's the point?\n",
    "\n",
    "So far, we've just been creating arrays and matrices, reshaping them, and looking at a few methods. What makes numpy so spectacular isn't the fact that it's relatively painless to generate arrays and matrices. It's the fact that we can manipulate them with incredible ease. \n",
    "\n",
    "Numpy allows for us to do singular instructions on vectors and matrices (such as scalar addition / multiplication). "
   ]
  },
  {
   "cell_type": "code",
   "execution_count": 19,
   "metadata": {},
   "outputs": [
    {
     "name": "stdout",
     "output_type": "stream",
     "text": [
      "Vector: \n",
      " [0 1 2 3 4]\n",
      "Matrix: \n",
      " [[ 0  1  2  3  4]\n",
      " [ 5  6  7  8  9]\n",
      " [10 11 12 13 14]\n",
      " [15 16 17 18 19]\n",
      " [20 21 22 23 24]]\n"
     ]
    }
   ],
   "source": [
    "startingPoint = 0\n",
    "endingPoint = 5  ## Exclusive\n",
    "\n",
    "\n",
    "vector = np.arange(startingPoint,endingPoint)\n",
    "matrix = np.arange(startingPoint, endingPoint*5).reshape(5,5)\n",
    "\n",
    "print(\"Vector: \\n\", vector)\n",
    "print(\"Matrix: \\n\", matrix)"
   ]
  },
  {
   "cell_type": "markdown",
   "metadata": {},
   "source": [
    "#### Scalar Addition: "
   ]
  },
  {
   "cell_type": "code",
   "execution_count": 20,
   "metadata": {},
   "outputs": [
    {
     "name": "stdout",
     "output_type": "stream",
     "text": [
      "Vector + 15: \n",
      " [15 16 17 18 19]\n",
      "Matrix + 15: \n",
      " [[15 16 17 18 19]\n",
      " [20 21 22 23 24]\n",
      " [25 26 27 28 29]\n",
      " [30 31 32 33 34]\n",
      " [35 36 37 38 39]]\n"
     ]
    }
   ],
   "source": [
    "print(\"Vector + 15: \\n\", vector + 15)\n",
    "print(\"Matrix + 15: \\n\", matrix + 15)"
   ]
  },
  {
   "cell_type": "markdown",
   "metadata": {},
   "source": [
    "#### Scalar Multiplication"
   ]
  },
  {
   "cell_type": "code",
   "execution_count": 21,
   "metadata": {},
   "outputs": [
    {
     "name": "stdout",
     "output_type": "stream",
     "text": [
      "Vector + 15: \n",
      " [ 0  3  6  9 12]\n",
      "Matrix + 15: \n",
      " [[ 0  3  6  9 12]\n",
      " [15 18 21 24 27]\n",
      " [30 33 36 39 42]\n",
      " [45 48 51 54 57]\n",
      " [60 63 66 69 72]]\n"
     ]
    }
   ],
   "source": [
    "print(\"Vector + 15: \\n\", vector * 3)\n",
    "print(\"Matrix + 15: \\n\", matrix * 3)"
   ]
  },
  {
   "cell_type": "markdown",
   "metadata": {},
   "source": [
    "#### Vector / Matrix Addition "
   ]
  },
  {
   "cell_type": "code",
   "execution_count": 22,
   "metadata": {},
   "outputs": [
    {
     "name": "stdout",
     "output_type": "stream",
     "text": [
      "Vector + [0,1,2,3,4]: \n",
      " [0 2 4 6 8]\n",
      "Matrix + Matrix \n",
      " [[ 0  2  4  6  8]\n",
      " [10 12 14 16 18]\n",
      " [20 22 24 26 28]\n",
      " [30 32 34 36 38]\n",
      " [40 42 44 46 48]]\n"
     ]
    }
   ],
   "source": [
    "print(\"Vector + [0,1,2,3,4]: \\n\", vector + vector)\n",
    "print(\"Matrix + Matrix \\n\", matrix + matrix)"
   ]
  },
  {
   "cell_type": "markdown",
   "metadata": {},
   "source": [
    "#### Vector / Matrix Multiplation (Not linear algebra!)"
   ]
  },
  {
   "cell_type": "code",
   "execution_count": 23,
   "metadata": {},
   "outputs": [
    {
     "name": "stdout",
     "output_type": "stream",
     "text": [
      "Vector * [0,1,2,3,4]: \n",
      " [ 0  1  4  9 16]\n",
      "Matrix * Vector \n",
      " [[ 0  1  4  9 16]\n",
      " [ 0  6 14 24 36]\n",
      " [ 0 11 24 39 56]\n",
      " [ 0 16 34 54 76]\n",
      " [ 0 21 44 69 96]]\n",
      "Matrix * Matrix \n",
      " [[  0   1   4   9  16]\n",
      " [ 25  36  49  64  81]\n",
      " [100 121 144 169 196]\n",
      " [225 256 289 324 361]\n",
      " [400 441 484 529 576]]\n"
     ]
    }
   ],
   "source": [
    "print(\"Vector * [0,1,2,3,4]: \\n\", vector * vector)\n",
    "print(\"Matrix * Vector \\n\", matrix * vector)\n",
    "print(\"Matrix * Matrix \\n\", matrix * matrix)"
   ]
  },
  {
   "cell_type": "markdown",
   "metadata": {},
   "source": [
    "Take note that though this looks very easily like these could be linear algebra equations, they're not. To do linear algebra equations, you'll need to consult the [documentation]('https://docs.scipy.org/doc/numpy/reference/routines.linalg.html'). The matrix multiplication of our matrix by itself would yield: "
   ]
  },
  {
   "cell_type": "code",
   "execution_count": 24,
   "metadata": {},
   "outputs": [
    {
     "data": {
      "text/plain": [
       "array([[ 150,  160,  170,  180,  190],\n",
       "       [ 400,  435,  470,  505,  540],\n",
       "       [ 650,  710,  770,  830,  890],\n",
       "       [ 900,  985, 1070, 1155, 1240],\n",
       "       [1150, 1260, 1370, 1480, 1590]])"
      ]
     },
     "execution_count": 24,
     "metadata": {},
     "output_type": "execute_result"
    }
   ],
   "source": [
    "np.dot(matrix, matrix)"
   ]
  },
  {
   "cell_type": "markdown",
   "metadata": {},
   "source": [
    "We can also manipulate only specific parts of our arrays and matrices: "
   ]
  },
  {
   "cell_type": "code",
   "execution_count": 25,
   "metadata": {},
   "outputs": [
    {
     "data": {
      "text/plain": [
       "array([13, 13,  2,  3,  4])"
      ]
     },
     "execution_count": 25,
     "metadata": {},
     "output_type": "execute_result"
    }
   ],
   "source": [
    "vector[:2] = 13\n",
    "vector"
   ]
  },
  {
   "cell_type": "markdown",
   "metadata": {},
   "source": [
    "To access specific portions of a matrix, you can index the matrices by accessing only the individual elements: "
   ]
  },
  {
   "cell_type": "code",
   "execution_count": 26,
   "metadata": {},
   "outputs": [
    {
     "data": {
      "text/plain": [
       "array([10, 11, 12, 13, 14])"
      ]
     },
     "execution_count": 26,
     "metadata": {},
     "output_type": "execute_result"
    }
   ],
   "source": [
    "matrix[2]"
   ]
  },
  {
   "cell_type": "code",
   "execution_count": 27,
   "metadata": {},
   "outputs": [
    {
     "name": "stdout",
     "output_type": "stream",
     "text": [
      "You can access matrix data with [][] notation 14\n",
      "You can access matrix data with [ , ] notation 14\n"
     ]
    }
   ],
   "source": [
    "print('You can access matrix data with [][] notation' , matrix[2][4])\n",
    "print('You can access matrix data with [ , ] notation' ,matrix[2,4])"
   ]
  },
  {
   "cell_type": "markdown",
   "metadata": {},
   "source": [
    "### Accessing data by boolean vectors and matrices: \n",
    "\n",
    "It's rarely the case where you know exactly what you'll be wanting out of a matrix. With numpy, you can grab data based on boolean matrices. Let's just try to see only even numbers in our vector and matrix: "
   ]
  },
  {
   "cell_type": "code",
   "execution_count": 28,
   "metadata": {},
   "outputs": [
    {
     "name": "stdout",
     "output_type": "stream",
     "text": [
      "Boolean Vector divisible by 2\n",
      " [ True False  True False  True]\n",
      "\n",
      "Boolean Matrix dividible by 2\n",
      " [[ True False  True False  True]\n",
      " [False  True False  True False]\n",
      " [ True False  True False  True]\n",
      " [False  True False  True False]\n",
      " [ True False  True False  True]]\n"
     ]
    }
   ],
   "source": [
    "startingPoint = 0\n",
    "endingPoint = 5  ## Exclusive\n",
    "\n",
    "\n",
    "vector = np.arange(startingPoint,endingPoint)\n",
    "matrix = np.arange(startingPoint, endingPoint*5).reshape(5,5)\n",
    "\n",
    "print(\"Boolean Vector divisible by 2\\n\", vector % 2 == 0)\n",
    "print(\"\\nBoolean Matrix dividible by 2\\n\", matrix % 2 == 0)"
   ]
  },
  {
   "cell_type": "markdown",
   "metadata": {},
   "source": [
    "You can take these boolean vectors and matrices, and use them as arguments to pass to your data (this notation takes a bit of getting used to): "
   ]
  },
  {
   "cell_type": "code",
   "execution_count": 29,
   "metadata": {},
   "outputs": [
    {
     "data": {
      "text/plain": [
       "array([0, 2, 4])"
      ]
     },
     "execution_count": 29,
     "metadata": {},
     "output_type": "execute_result"
    }
   ],
   "source": [
    "evenNumberBooleanVector = vector % 2 == 0\n",
    "vector[evenNumberBooleanVector]"
   ]
  },
  {
   "cell_type": "code",
   "execution_count": 30,
   "metadata": {},
   "outputs": [
    {
     "data": {
      "text/plain": [
       "array([ 0,  2,  4,  6,  8, 10, 12, 14, 16, 18, 20, 22, 24])"
      ]
     },
     "execution_count": 30,
     "metadata": {},
     "output_type": "execute_result"
    }
   ],
   "source": [
    "evenNumberBooleanMatrix = matrix % 2 == 0\n",
    "matrix[evenNumberBooleanMatrix]"
   ]
  },
  {
   "cell_type": "markdown",
   "metadata": {},
   "source": [
    "Now, take note that while `matrix` was in the `5x5` matrix shape, it is now a singular dimension. This notation returns single dimensional arrays (it would be very curious to see a 5x5 matrix with only 13 values). \n",
    "\n",
    "### Caveats\n",
    "\n",
    "It's entirely possible that in your work you'll wind up doing some division. If you do end up dividing by zero, you'll find that the kernal doesn't actually break, but it can end up giving you a number you may not know what to do with. "
   ]
  },
  {
   "cell_type": "code",
   "execution_count": 32,
   "metadata": {},
   "outputs": [
    {
     "name": "stdout",
     "output_type": "stream",
     "text": [
      "[0 1 2 3 4]\n"
     ]
    }
   ],
   "source": [
    "print(vector)"
   ]
  },
  {
   "cell_type": "code",
   "execution_count": 33,
   "metadata": {},
   "outputs": [
    {
     "name": "stderr",
     "output_type": "stream",
     "text": [
      "//anaconda3/lib/python3.7/site-packages/ipykernel_launcher.py:1: RuntimeWarning: invalid value encountered in true_divide\n",
      "  \"\"\"Entry point for launching an IPython kernel.\n"
     ]
    },
    {
     "data": {
      "text/plain": [
       "array([nan,  1.,  1.,  1.,  1.])"
      ]
     },
     "execution_count": 33,
     "metadata": {},
     "output_type": "execute_result"
    }
   ],
   "source": [
    "vector / vector"
   ]
  },
  {
   "cell_type": "code",
   "execution_count": 34,
   "metadata": {},
   "outputs": [
    {
     "name": "stderr",
     "output_type": "stream",
     "text": [
      "//anaconda3/lib/python3.7/site-packages/ipykernel_launcher.py:1: RuntimeWarning: divide by zero encountered in true_divide\n",
      "  \"\"\"Entry point for launching an IPython kernel.\n"
     ]
    },
    {
     "data": {
      "text/plain": [
       "array([       inf, 1.        , 0.5       , 0.33333333, 0.25      ])"
      ]
     },
     "execution_count": 34,
     "metadata": {},
     "output_type": "execute_result"
    }
   ],
   "source": [
    "1 / vector"
   ]
  },
  {
   "cell_type": "code",
   "execution_count": null,
   "metadata": {},
   "outputs": [],
   "source": []
  }
 ],
 "metadata": {
  "kernelspec": {
   "display_name": "Python 3",
   "language": "python",
   "name": "python3"
  },
  "language_info": {
   "codemirror_mode": {
    "name": "ipython",
    "version": 3
   },
   "file_extension": ".py",
   "mimetype": "text/x-python",
   "name": "python",
   "nbconvert_exporter": "python",
   "pygments_lexer": "ipython3",
   "version": "3.7.3"
  }
 },
 "nbformat": 4,
 "nbformat_minor": 2
}
